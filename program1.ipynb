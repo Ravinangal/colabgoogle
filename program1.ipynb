{
  "nbformat": 4,
  "nbformat_minor": 0,
  "metadata": {
    "colab": {
      "provenance": [],
      "authorship_tag": "ABX9TyOJ0n1gqJfvunZvjODKzSzt",
      "include_colab_link": true
    },
    "kernelspec": {
      "name": "python3",
      "display_name": "Python 3"
    },
    "language_info": {
      "name": "python"
    }
  },
  "cells": [
    {
      "cell_type": "markdown",
      "metadata": {
        "id": "view-in-github",
        "colab_type": "text"
      },
      "source": [
        "<a href=\"https://colab.research.google.com/github/Ravinangal/colabgoogle/blob/main/program1.ipynb\" target=\"_parent\"><img src=\"https://colab.research.google.com/assets/colab-badge.svg\" alt=\"Open In Colab\"/></a>"
      ]
    },
    {
      "cell_type": "code",
      "execution_count": 82,
      "metadata": {
        "colab": {
          "base_uri": "https://localhost:8080/"
        },
        "id": "0Uixpxj90V8n",
        "outputId": "34fd6f10-adf4-49c6-a97e-0bdc78c6f17b"
      },
      "outputs": [
        {
          "output_type": "stream",
          "name": "stdout",
          "text": [
            " Raviinder Singh \n",
            " Village : Nangal \n",
            " Dist : Barnala \n",
            " Qualification : Graduation \n",
            " CGPA : 8.9 \n",
            " \n"
          ]
        }
      ],
      "source": [
        "print(\" Raviinder Singh \\n Village : Nangal \\n Dist : Barnala \\n Qualification : Graduation \\n CGPA : 8.9 \\n \")\n"
      ]
    },
    {
      "cell_type": "code",
      "source": [
        "a = 10\n",
        "print(\"my number is : \",a)\n",
        "a= a+10\n",
        "print(\"Here the number is !!! : \",a)"
      ],
      "metadata": {
        "colab": {
          "base_uri": "https://localhost:8080/"
        },
        "id": "voPjMlA25K17",
        "outputId": "ec6835b0-b67a-408d-b720-73266f21f6f8"
      },
      "execution_count": 83,
      "outputs": [
        {
          "output_type": "stream",
          "name": "stdout",
          "text": [
            "my number is :  10\n",
            "Here the number is !!! :  20\n"
          ]
        }
      ]
    },
    {
      "cell_type": "code",
      "source": [
        "print(\"------------------------------------------\")\n",
        "print(\"|Rank  | State Name  |Population(Million)|\")\n",
        "print(\"------------------------------------------\")\n",
        "print(\"| 1    | UP           | 241.3            |\")\n",
        "print(\"| 2    | Bihar        | 131.3            |\")\n",
        "print(\"| 3    | Maharastra   | 128.7            |\")\n",
        "print(\"| 4    | West Bengal  | 100.2            |\")\n",
        "print(\"| 5    | MP           | 89.03            |\")\n",
        "print(\"------------------------------------------\")"
      ],
      "metadata": {
        "colab": {
          "base_uri": "https://localhost:8080/"
        },
        "id": "zpAgqs_r829D",
        "outputId": "35211bb3-9cdf-4a0f-a612-27dd9efc1fb3"
      },
      "execution_count": 84,
      "outputs": [
        {
          "output_type": "stream",
          "name": "stdout",
          "text": [
            "------------------------------------------\n",
            "|Rank  | State Name  |Population(Million)|\n",
            "------------------------------------------\n",
            "| 1    | UP           | 241.3            |\n",
            "| 2    | Bihar        | 131.3            |\n",
            "| 3    | Maharastra   | 128.7            |\n",
            "| 4    | West Bengal  | 100.2            |\n",
            "| 5    | MP           | 89.03            |\n",
            "------------------------------------------\n"
          ]
        }
      ]
    },
    {
      "cell_type": "code",
      "source": [
        "a = \"Raviinder\"\n",
        "b = \"Singh\"\n",
        "print(a+\" \"+b)\n",
        "\n",
        "\n",
        "a = 2\n",
        "b = 55\n",
        "print(a+b)"
      ],
      "metadata": {
        "colab": {
          "base_uri": "https://localhost:8080/"
        },
        "id": "GKW8i6TM_UpF",
        "outputId": "20d29c41-21f9-4481-8c76-95d1747f130a"
      },
      "execution_count": 85,
      "outputs": [
        {
          "output_type": "stream",
          "name": "stdout",
          "text": [
            "Raviinder Singh\n",
            "57\n"
          ]
        }
      ]
    },
    {
      "cell_type": "code",
      "source": [
        "Account = 13456789print(Account)"
      ],
      "metadata": {
        "colab": {
          "base_uri": "https://localhost:8080/",
          "height": 176
        },
        "id": "eKLVJ0SkAKtz",
        "outputId": "c7b09375-8fa5-4096-8fbc-711c08698e98"
      },
      "execution_count": 86,
      "outputs": [
        {
          "output_type": "error",
          "ename": "NameError",
          "evalue": "name 'account' is not defined",
          "traceback": [
            "\u001b[0;31m---------------------------------------------------------------------------\u001b[0m",
            "\u001b[0;31mNameError\u001b[0m                                 Traceback (most recent call last)",
            "\u001b[0;32m/tmp/ipython-input-1349258332.py\u001b[0m in \u001b[0;36m<cell line: 0>\u001b[0;34m()\u001b[0m\n\u001b[0;32m----> 1\u001b[0;31m \u001b[0maccount\u001b[0m\u001b[0;34m\u001b[0m\u001b[0;34m\u001b[0m\u001b[0m\n\u001b[0m\u001b[1;32m      2\u001b[0m \u001b[0mprint\u001b[0m\u001b[0;34m(\u001b[0m\u001b[0;34m\"enter bank account\"\u001b[0m\u001b[0;34m)\u001b[0m\u001b[0;34m\u001b[0m\u001b[0;34m\u001b[0m\u001b[0m\n\u001b[1;32m      3\u001b[0m \u001b[0minput\u001b[0m\u001b[0;34m(\u001b[0m\u001b[0maccount\u001b[0m\u001b[0;34m)\u001b[0m\u001b[0;34m\u001b[0m\u001b[0;34m\u001b[0m\u001b[0m\n",
            "\u001b[0;31mNameError\u001b[0m: name 'account' is not defined"
          ]
        }
      ]
    }
  ]
}