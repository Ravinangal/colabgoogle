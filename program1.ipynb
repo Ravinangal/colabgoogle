{
  "nbformat": 4,
  "nbformat_minor": 0,
  "metadata": {
    "colab": {
      "provenance": [],
      "authorship_tag": "ABX9TyMJSQs8DjhtiMDqqn1QlmdM",
      "include_colab_link": true
    },
    "kernelspec": {
      "name": "python3",
      "display_name": "Python 3"
    },
    "language_info": {
      "name": "python"
    }
  },
  "cells": [
    {
      "cell_type": "markdown",
      "metadata": {
        "id": "view-in-github",
        "colab_type": "text"
      },
      "source": [
        "<a href=\"https://colab.research.google.com/github/Ravinangal/colabgoogle/blob/main/program1.ipynb\" target=\"_parent\"><img src=\"https://colab.research.google.com/assets/colab-badge.svg\" alt=\"Open In Colab\"/></a>"
      ]
    },
    {
      "cell_type": "code",
      "execution_count": 112,
      "metadata": {
        "colab": {
          "base_uri": "https://localhost:8080/"
        },
        "id": "0Uixpxj90V8n",
        "outputId": "2e035493-00a8-49cc-d1fb-d8f1f7c538a0"
      },
      "outputs": [
        {
          "output_type": "stream",
          "name": "stdout",
          "text": [
            " Raviinder Singh \n",
            " Village : Nangal \n",
            " Dist : Barnala \n",
            " Qualification : Graduation \n",
            " CGPA : 8.9 \n",
            " \n"
          ]
        }
      ],
      "source": [
        "print(\" Raviinder Singh \\n Village : Nangal \\n Dist : Barnala \\n Qualification : Graduation \\n CGPA : 8.9 \\n \")\n"
      ]
    },
    {
      "cell_type": "code",
      "source": [
        "a = 10\n",
        "print(\"my number is : \",a)\n",
        "a= a+10\n",
        "print(\"Here the number is !!! : \",a)"
      ],
      "metadata": {
        "colab": {
          "base_uri": "https://localhost:8080/"
        },
        "id": "voPjMlA25K17",
        "outputId": "4c9016a2-76a8-4bab-b327-6eca3cc3b18f"
      },
      "execution_count": 113,
      "outputs": [
        {
          "output_type": "stream",
          "name": "stdout",
          "text": [
            "my number is :  10\n",
            "Here the number is !!! :  20\n"
          ]
        }
      ]
    },
    {
      "cell_type": "code",
      "source": [
        "print(\"------------------------------------------\")\n",
        "print(\"|Rank  | State Name  |Population(Million)|\")\n",
        "print(\"------------------------------------------\")\n",
        "print(\"| 1    | UP           | 241.3            |\")\n",
        "print(\"| 2    | Bihar        | 131.3            |\")\n",
        "print(\"| 3    | Maharastra   | 128.7            |\")\n",
        "print(\"| 4    | West Bengal  | 100.2            |\")\n",
        "print(\"| 5    | MP           | 89.03            |\")\n",
        "print(\"------------------------------------------\")"
      ],
      "metadata": {
        "colab": {
          "base_uri": "https://localhost:8080/"
        },
        "id": "zpAgqs_r829D",
        "outputId": "78569bed-30ba-448d-eb18-0c2f06d8a6c7"
      },
      "execution_count": 114,
      "outputs": [
        {
          "output_type": "stream",
          "name": "stdout",
          "text": [
            "------------------------------------------\n",
            "|Rank  | State Name  |Population(Million)|\n",
            "------------------------------------------\n",
            "| 1    | UP           | 241.3            |\n",
            "| 2    | Bihar        | 131.3            |\n",
            "| 3    | Maharastra   | 128.7            |\n",
            "| 4    | West Bengal  | 100.2            |\n",
            "| 5    | MP           | 89.03            |\n",
            "------------------------------------------\n"
          ]
        }
      ]
    },
    {
      "cell_type": "code",
      "source": [
        "a = \"Raviinder\"\n",
        "b = \"Singh\"\n",
        "print(a+\" \"+b)\n",
        "\n",
        "\n",
        "a = 2\n",
        "b = 55\n",
        "print(a+b)"
      ],
      "metadata": {
        "colab": {
          "base_uri": "https://localhost:8080/"
        },
        "id": "GKW8i6TM_UpF",
        "outputId": "d24ffcab-cc98-4be3-d7f7-e64b7a201ef7"
      },
      "execution_count": 115,
      "outputs": [
        {
          "output_type": "stream",
          "name": "stdout",
          "text": [
            "Raviinder Singh\n",
            "57\n"
          ]
        }
      ]
    },
    {
      "cell_type": "code",
      "source": [
        "Account = 13456789\n",
        "print(\"Account no. is : \",Account)\n",
        "Name = \"Anonymous \"\n",
        "print(\"My name is     : \",Name)\n",
        "Branch = \"Chandigarh\"\n",
        "print(\"Branch is      : \",Branch)\n",
        "Balance = 100000000000000000\n",
        "print(\"Balance is     : \",Balance)\n"
      ],
      "metadata": {
        "colab": {
          "base_uri": "https://localhost:8080/"
        },
        "id": "eKLVJ0SkAKtz",
        "outputId": "23c0cbb9-95a1-44d5-d212-72d7d3e36475"
      },
      "execution_count": 118,
      "outputs": [
        {
          "output_type": "stream",
          "name": "stdout",
          "text": [
            "Account no. is :  13456789\n",
            "My name is     :  Anonymous \n",
            "Branch is      :  Chandigarh\n",
            "Balance is     :  100000000000000000\n"
          ]
        }
      ]
    },
    {
      "cell_type": "code",
      "source": [
        "\"\"\"hey this is the multi line comment\n",
        "I wanted to write this for information\"\"\"\n",
        "\n",
        "print(\"Daily Routine\")\n",
        "print(\"12:00 PM | Wake up\")\n",
        "print(\"01:00 PM | Ready to class\")\n",
        "print(\"02:00 PM | Class\")\n",
        "print(\"06:00 PM | Meal\")\n",
        "print(\"08:00 PM | GYM\")\n",
        "# this is half the routine\n"
      ],
      "metadata": {
        "colab": {
          "base_uri": "https://localhost:8080/"
        },
        "id": "Jvefy-zgDO_p",
        "outputId": "114d057e-7533-48b7-a605-cf7ad8dcd319"
      },
      "execution_count": 129,
      "outputs": [
        {
          "output_type": "stream",
          "name": "stdout",
          "text": [
            "Daily Routine\n",
            "12:00 PM | Wake up\n",
            "01:00 PM | Ready to class\n",
            "02:00 PM | Class\n",
            "06:00 PM | Meal\n",
            "08:00 PM | GYM\n"
          ]
        }
      ]
    }
  ]
}