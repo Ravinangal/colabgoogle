{
  "nbformat": 4,
  "nbformat_minor": 0,
  "metadata": {
    "colab": {
      "provenance": [],
      "authorship_tag": "ABX9TyMNeqmEV/8EN74uJpHFQ37h",
      "include_colab_link": true
    },
    "kernelspec": {
      "name": "python3",
      "display_name": "Python 3"
    },
    "language_info": {
      "name": "python"
    }
  },
  "cells": [
    {
      "cell_type": "markdown",
      "metadata": {
        "id": "view-in-github",
        "colab_type": "text"
      },
      "source": [
        "<a href=\"https://colab.research.google.com/github/Ravinangal/colabgoogle/blob/main/read_write_numpy_panda.ipynb\" target=\"_parent\"><img src=\"https://colab.research.google.com/assets/colab-badge.svg\" alt=\"Open In Colab\"/></a>"
      ]
    },
    {
      "cell_type": "code",
      "execution_count": null,
      "metadata": {
        "colab": {
          "base_uri": "https://localhost:8080/"
        },
        "id": "ArbdUoid7Mfe",
        "outputId": "133805e1-56d4-4fa7-857e-568c12d87cf6"
      },
      "outputs": [
        {
          "output_type": "stream",
          "name": "stdout",
          "text": [
            "[5 6 7 8]\n",
            "[1 2 3 4]\n",
            "---------------------\n",
            "[ 6  8 10 12]\n",
            "---------------------\n",
            "[[5 6]\n",
            " [6 8]]\n"
          ]
        }
      ],
      "source": [
        "import numpy as np\n",
        "a = np.array([5,6,7,8])\n",
        "print(a)\n",
        "b = np.array([1,2,3,4])\n",
        "print(b)\n",
        "print(\"---------------------\")\n",
        "sum = a + b\n",
        "print(sum)\n",
        "\n",
        "print(\"---------------------\")\n",
        "c = np.array([[5,6],[6,8]])\n",
        "print(c)"
      ]
    },
    {
      "cell_type": "code",
      "source": [
        "import numpy as np\n",
        "c = np.array([[5,6],[6,8]])\n",
        "x = np.array([2,3])\n",
        "\n",
        "sum = c + x\n",
        "mul = c * x\n",
        "print(sum)\n",
        "print(mul)\n",
        "\n",
        "\n",
        "\n"
      ],
      "metadata": {
        "colab": {
          "base_uri": "https://localhost:8080/"
        },
        "id": "q5B7pKGACW4N",
        "outputId": "a52426db-208f-4b91-ccdb-15f3e9cec09f"
      },
      "execution_count": null,
      "outputs": [
        {
          "output_type": "stream",
          "name": "stdout",
          "text": [
            "[[ 7  9]\n",
            " [ 8 11]]\n",
            "[[10 18]\n",
            " [12 24]]\n"
          ]
        }
      ]
    },
    {
      "cell_type": "code",
      "source": [
        "p = [5,7]\n",
        "q = [7]\n",
        "sum = p+q\n",
        "print(sum)"
      ],
      "metadata": {
        "colab": {
          "base_uri": "https://localhost:8080/"
        },
        "id": "PWdmb-0-Dgmx",
        "outputId": "585edc35-59b4-4ae5-da0f-8fbc571dfa39"
      },
      "execution_count": 2,
      "outputs": [
        {
          "output_type": "stream",
          "name": "stdout",
          "text": [
            "[5, 7, 7]\n"
          ]
        }
      ]
    },
    {
      "cell_type": "code",
      "source": [
        "import pandas as pd\n",
        "employee = {\"name\":[\"ak\",\"pk\",\"sk\"],\n",
        "            \"salary\":[50000,60000,70000],\n",
        "            \"designer\":[\"one\",\"two\",\"three\"]}\n",
        "\n",
        "df =pd.DataFrame(employee)\n",
        "print(df)"
      ],
      "metadata": {
        "colab": {
          "base_uri": "https://localhost:8080/"
        },
        "id": "Ub54GmKaI40c",
        "outputId": "9de1cf54-3532-49ee-a689-4992c2d38189"
      },
      "execution_count": 4,
      "outputs": [
        {
          "output_type": "stream",
          "name": "stdout",
          "text": [
            "  name  salary designer\n",
            "0   ak   50000      one\n",
            "1   pk   60000      two\n",
            "2   sk   70000    three\n"
          ]
        }
      ]
    },
    {
      "cell_type": "code",
      "source": [],
      "metadata": {
        "id": "7b2nxdWEKTp-"
      },
      "execution_count": null,
      "outputs": []
    }
  ]
}