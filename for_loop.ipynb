{
  "nbformat": 4,
  "nbformat_minor": 0,
  "metadata": {
    "colab": {
      "provenance": [],
      "authorship_tag": "ABX9TyOb9HsTOXCFkz3I4bj6PCLR",
      "include_colab_link": true
    },
    "kernelspec": {
      "name": "python3",
      "display_name": "Python 3"
    },
    "language_info": {
      "name": "python"
    }
  },
  "cells": [
    {
      "cell_type": "markdown",
      "metadata": {
        "id": "view-in-github",
        "colab_type": "text"
      },
      "source": [
        "<a href=\"https://colab.research.google.com/github/Ravinangal/colabgoogle/blob/main/for_loop.ipynb\" target=\"_parent\"><img src=\"https://colab.research.google.com/assets/colab-badge.svg\" alt=\"Open In Colab\"/></a>"
      ]
    },
    {
      "cell_type": "code",
      "execution_count": null,
      "metadata": {
        "colab": {
          "base_uri": "https://localhost:8080/"
        },
        "id": "WyBwBOYNTWna",
        "outputId": "5d149fc2-d2c3-4c5f-83d5-93d7d2159caf"
      },
      "outputs": [
        {
          "output_type": "stream",
          "name": "stdout",
          "text": [
            "4950\n"
          ]
        }
      ],
      "source": [
        "sum = 0\n",
        "for i in range(1,100):\n",
        "  sum = sum + i\n",
        "print(sum)"
      ]
    },
    {
      "cell_type": "code",
      "source": [
        "#first approach even no\n",
        "for i in range(1,10,2):\n",
        "  print(i+1)\n",
        "\n",
        "#second approach\n",
        "for i in range(1,10):\n",
        "  if(i%2==0):\n",
        "    print(i)"
      ],
      "metadata": {
        "colab": {
          "base_uri": "https://localhost:8080/"
        },
        "id": "TMw8Z0khVIj6",
        "outputId": "8e33b0dd-a0f5-48e8-c4dd-2067d93f7bae"
      },
      "execution_count": null,
      "outputs": [
        {
          "output_type": "stream",
          "name": "stdout",
          "text": [
            "2\n",
            "4\n",
            "6\n",
            "8\n",
            "10\n",
            "12\n",
            "14\n",
            "16\n",
            "18\n",
            "20\n",
            "22\n",
            "24\n",
            "26\n",
            "28\n",
            "30\n",
            "32\n",
            "34\n",
            "36\n",
            "38\n",
            "40\n",
            "42\n",
            "44\n",
            "46\n",
            "48\n",
            "50\n",
            "52\n",
            "54\n",
            "56\n",
            "58\n",
            "60\n",
            "62\n",
            "64\n",
            "66\n",
            "68\n",
            "70\n",
            "72\n",
            "74\n",
            "76\n",
            "78\n",
            "80\n",
            "82\n",
            "84\n",
            "86\n",
            "88\n",
            "90\n",
            "92\n",
            "94\n",
            "96\n",
            "98\n",
            "100\n",
            "2\n",
            "4\n",
            "6\n",
            "8\n",
            "10\n",
            "12\n",
            "14\n",
            "16\n",
            "18\n",
            "20\n",
            "22\n",
            "24\n",
            "26\n",
            "28\n",
            "30\n",
            "32\n",
            "34\n",
            "36\n",
            "38\n",
            "40\n",
            "42\n",
            "44\n",
            "46\n",
            "48\n",
            "50\n",
            "52\n",
            "54\n",
            "56\n",
            "58\n",
            "60\n",
            "62\n",
            "64\n",
            "66\n",
            "68\n",
            "70\n",
            "72\n",
            "74\n",
            "76\n",
            "78\n",
            "80\n",
            "82\n",
            "84\n",
            "86\n",
            "88\n",
            "90\n",
            "92\n",
            "94\n",
            "96\n",
            "98\n"
          ]
        }
      ]
    },
    {
      "cell_type": "code",
      "source": [
        "factorial_num = 5\n",
        "factorial = 1\n",
        "for i in range (1,factorial_num):\n",
        "  factorial = i *  i+1\n",
        "print(factorial)"
      ],
      "metadata": {
        "colab": {
          "base_uri": "https://localhost:8080/"
        },
        "id": "Pe-va9KTabQr",
        "outputId": "0c1b6d07-f9f8-47a3-8e38-31e6c5b7d4d7"
      },
      "execution_count": null,
      "outputs": [
        {
          "output_type": "stream",
          "name": "stdout",
          "text": [
            "17\n"
          ]
        }
      ]
    },
    {
      "cell_type": "code",
      "source": [
        "for i in range(1,100+1):\n",
        "  if(i%25 == 0 or i%30 == 0 or i%36 == 0):\n",
        "    print(i)\n"
      ],
      "metadata": {
        "colab": {
          "base_uri": "https://localhost:8080/"
        },
        "id": "QVjdg_GHd57P",
        "outputId": "55f09a91-554d-41ad-f03b-c6fd8493577c"
      },
      "execution_count": null,
      "outputs": [
        {
          "output_type": "stream",
          "name": "stdout",
          "text": [
            "25\n",
            "30\n",
            "36\n",
            "50\n",
            "60\n",
            "72\n",
            "75\n",
            "90\n",
            "100\n",
            "108\n",
            "120\n",
            "125\n",
            "144\n",
            "150\n",
            "175\n",
            "180\n",
            "200\n",
            "210\n",
            "216\n",
            "225\n",
            "240\n",
            "250\n",
            "252\n",
            "270\n",
            "275\n",
            "288\n",
            "300\n",
            "324\n",
            "325\n",
            "330\n",
            "350\n",
            "360\n",
            "375\n",
            "390\n",
            "396\n",
            "400\n",
            "420\n",
            "425\n",
            "432\n",
            "450\n",
            "468\n",
            "475\n",
            "480\n",
            "500\n",
            "504\n",
            "510\n",
            "525\n",
            "540\n",
            "550\n",
            "570\n",
            "575\n",
            "576\n",
            "600\n",
            "612\n",
            "625\n",
            "630\n",
            "648\n",
            "650\n",
            "660\n",
            "675\n",
            "684\n",
            "690\n",
            "700\n",
            "720\n",
            "725\n",
            "750\n",
            "756\n",
            "775\n",
            "780\n",
            "792\n",
            "800\n",
            "810\n",
            "825\n",
            "828\n",
            "840\n",
            "850\n",
            "864\n",
            "870\n",
            "875\n",
            "900\n",
            "925\n",
            "930\n",
            "936\n",
            "950\n",
            "960\n",
            "972\n",
            "975\n",
            "990\n"
          ]
        }
      ]
    },
    {
      "cell_type": "code",
      "source": [
        "for i in range(1,1000+1):\n",
        "  if(i%25 == 0 and i%3 == 0 and i%9 != 0):\n",
        "    print(i)"
      ],
      "metadata": {
        "colab": {
          "base_uri": "https://localhost:8080/"
        },
        "id": "n3UjPNJ7ebh6",
        "outputId": "419c2ca1-7799-4a08-90d6-c2da8352f40d"
      },
      "execution_count": null,
      "outputs": [
        {
          "output_type": "stream",
          "name": "stdout",
          "text": [
            "75\n",
            "150\n",
            "300\n",
            "375\n",
            "525\n",
            "600\n",
            "750\n",
            "825\n",
            "975\n"
          ]
        }
      ]
    },
    {
      "cell_type": "code",
      "source": [
        "#fibonacci series\n",
        "num1 = 0\n",
        "num2 = 1\n",
        "fib_num = 10\n",
        "fib_series = 0\n",
        "if(fib_num == 0):\n",
        "  print(fib_num )\n",
        "elif(fib_num == 1):\n",
        "  print(fib_num )\n",
        "else:\n",
        "  print(num1)\n",
        "  print(num2)\n",
        "  for i in range(0,fib_num-2):\n",
        "    fib_series = num1 + num2\n",
        "    num1 = num2\n",
        "    num2 =  fib_series\n",
        "    print(fib_series)"
      ],
      "metadata": {
        "colab": {
          "base_uri": "https://localhost:8080/"
        },
        "id": "OwuKxnuNg-WV",
        "outputId": "70ad1c02-1aad-48a9-b48f-ab8e6ebb6d0d"
      },
      "execution_count": null,
      "outputs": [
        {
          "output_type": "stream",
          "name": "stdout",
          "text": [
            "0\n",
            "1\n",
            "1\n",
            "2\n",
            "3\n",
            "5\n",
            "8\n",
            "13\n",
            "21\n",
            "34\n"
          ]
        }
      ]
    },
    {
      "cell_type": "code",
      "source": [
        "n = 5\n",
        "while(n>0):\n",
        "  print(n)\n",
        "  n = n-1"
      ],
      "metadata": {
        "colab": {
          "base_uri": "https://localhost:8080/"
        },
        "id": "5GOtl57RlHNX",
        "outputId": "c1d1486c-ede4-4936-9929-0675bd461a1a"
      },
      "execution_count": null,
      "outputs": [
        {
          "output_type": "stream",
          "name": "stdout",
          "text": [
            "5\n",
            "4\n",
            "3\n",
            "2\n",
            "1\n"
          ]
        }
      ]
    },
    {
      "cell_type": "code",
      "source": [
        "num = 6523\n",
        "sum = 0\n",
        "new_num = 0\n",
        "while(num > 0):\n",
        "  digit = num % 10\n",
        "  sum = sum + digit\n",
        "  num = num // 10\n",
        "  print(digit)\n",
        "  new_num = new_num*10 + digit\n",
        "print(new_num)\n",
        "print(sum)"
      ],
      "metadata": {
        "colab": {
          "base_uri": "https://localhost:8080/"
        },
        "id": "vGknFqCWlw2_",
        "outputId": "fb348469-cf83-4b1d-83cb-be1819818981"
      },
      "execution_count": null,
      "outputs": [
        {
          "output_type": "stream",
          "name": "stdout",
          "text": [
            "3\n",
            "2\n",
            "5\n",
            "6\n",
            "3256\n",
            "16\n"
          ]
        }
      ]
    },
    {
      "cell_type": "code",
      "source": [
        "a=7\n",
        "b=2\n",
        "print(a/b)\n",
        "print(a//b) #floor value\n",
        "print(round(a/b)) #goes to nearest even value of 0.5"
      ],
      "metadata": {
        "colab": {
          "base_uri": "https://localhost:8080/"
        },
        "id": "Rugnsg5z51LA",
        "outputId": "b1bb8739-6c98-4c8b-a5c2-745ef4ab56bd"
      },
      "execution_count": null,
      "outputs": [
        {
          "output_type": "stream",
          "name": "stdout",
          "text": [
            "3.5\n",
            "3\n",
            "4\n"
          ]
        }
      ]
    },
    {
      "cell_type": "code",
      "source": [
        "num = 64732\n",
        "sum = 0\n",
        "reverse = 0\n",
        "print(\"The  number is : \",num)\n",
        "while(num > 0):\n",
        "  digit = num%10\n",
        "  sum = sum + digit\n",
        "  num = (num - digit)/10\n",
        "  print(int(digit))\n",
        "  reverse = reverse*10 + int(digit)\n",
        "\n",
        "print(\"The sum is : \",round(sum))\n",
        "print(\"The reverse number is : \",reverse)\n"
      ],
      "metadata": {
        "colab": {
          "base_uri": "https://localhost:8080/"
        },
        "id": "xB5cIiSh8GFH",
        "outputId": "647a721d-00fc-4a16-a5da-314c362e1af8"
      },
      "execution_count": null,
      "outputs": [
        {
          "output_type": "stream",
          "name": "stdout",
          "text": [
            "The  number is :  64732\n",
            "2\n",
            "3\n",
            "7\n",
            "4\n",
            "6\n",
            "The sum is :  22\n",
            "The reverse number is :  23746\n"
          ]
        }
      ]
    },
    {
      "cell_type": "code",
      "source": [
        "n = 100\n",
        "sum = 0\n",
        "while(n>=0):\n",
        "  sum = sum + n\n",
        "  n = n-1\n",
        "print(sum)\n"
      ],
      "metadata": {
        "colab": {
          "base_uri": "https://localhost:8080/"
        },
        "id": "qMXKUyy69XvV",
        "outputId": "e444e756-744a-42d5-c916-d6344a7b6900"
      },
      "execution_count": null,
      "outputs": [
        {
          "output_type": "stream",
          "name": "stdout",
          "text": [
            "5050\n"
          ]
        }
      ]
    },
    {
      "cell_type": "code",
      "source": [
        "#table\n",
        "num = int(input(\"enter the number you want table of \"))\n",
        "print(\"--------------------\")\n",
        "for i in range(1-1,10+1):\n",
        "  print(\" | \",num ,\" * \",i,\" = \",num*i,\" |\")\n",
        "print(\"--------------------\")\n",
        "# with while loop\n",
        "i=0\n",
        "while(i<=10):\n",
        "  print(\" | \",num ,\" * \",i,\" = \",num*i,\" |\")\n",
        "  i = i + 1\n",
        "print(\"--------------------\")\n"
      ],
      "metadata": {
        "colab": {
          "base_uri": "https://localhost:8080/"
        },
        "id": "ANjg0pdL_vZa",
        "outputId": "047f4c95-1380-47f6-b96d-98f6a4c6c439"
      },
      "execution_count": null,
      "outputs": [
        {
          "output_type": "stream",
          "name": "stdout",
          "text": [
            "enter the number you want table of 4\n",
            "--------------------\n",
            " |  4  *  0  =  0  |\n",
            " |  4  *  1  =  4  |\n",
            " |  4  *  2  =  8  |\n",
            " |  4  *  3  =  12  |\n",
            " |  4  *  4  =  16  |\n",
            " |  4  *  5  =  20  |\n",
            " |  4  *  6  =  24  |\n",
            " |  4  *  7  =  28  |\n",
            " |  4  *  8  =  32  |\n",
            " |  4  *  9  =  36  |\n",
            " |  4  *  10  =  40  |\n",
            "--------------------\n",
            " |  4  *  0  =  0  |\n",
            " |  4  *  1  =  4  |\n",
            " |  4  *  2  =  8  |\n",
            " |  4  *  3  =  12  |\n",
            " |  4  *  4  =  16  |\n",
            " |  4  *  5  =  20  |\n",
            " |  4  *  6  =  24  |\n",
            " |  4  *  7  =  28  |\n",
            " |  4  *  8  =  32  |\n",
            " |  4  *  9  =  36  |\n",
            " |  4  *  10  =  40  |\n",
            "--------------------\n"
          ]
        }
      ]
    },
    {
      "cell_type": "code",
      "source": [
        "#sum of cubes of a number\n",
        "n = 2\n",
        "sum = 0\n",
        "for i in range(1,n+1):\n",
        "  sum = sum + i**3\n",
        "print(sum)"
      ],
      "metadata": {
        "colab": {
          "base_uri": "https://localhost:8080/"
        },
        "id": "u42fx9lXGuIV",
        "outputId": "db0eac56-a738-40db-fd3b-32350763dbdb"
      },
      "execution_count": null,
      "outputs": [
        {
          "output_type": "stream",
          "name": "stdout",
          "text": [
            "9\n"
          ]
        }
      ]
    },
    {
      "cell_type": "code",
      "source": [
        "#prime number\n",
        "n = int(input(\"Enter the number : \"))\n",
        "# count = 0\n",
        "# for i in range(2,n):\n",
        "#   if(n%i == 0):\n",
        "#     count = count + 1\n",
        "# if(count == 0):\n",
        "#   print(n, \" is a Prime number\")\n",
        "# else:\n",
        "#   print(n, \" is Not a Prime number\")\n",
        "\n",
        "# print(\"--------------------\")\n",
        "# #using break=\n",
        "# for i in range(2,n):\n",
        "#   if(n%i == 0):\n",
        "#     print(n, \" is Not a Prime number\")\n",
        "#     break\n",
        "#   else:\n",
        "#     print(n, \" is a prime number\")\n",
        "#     break\n",
        "\n",
        "# print(\"--------------------\")\n",
        "# #using boolean\n",
        "# is_prime = True\n",
        "# for i in range(2,n):\n",
        "#   if(n%i == 0):\n",
        "#     is_prime = False\n",
        "#     break\n",
        "# if(is_prime == True):\n",
        "#   print(n, \" is a prime number\")\n",
        "# else:\n",
        "#   print(n, \" is not a prime number\")\n",
        "\n",
        "#using square root\n",
        "is_prime = 1\n",
        "sqrt = int(n ** (1/2)) + 1\n",
        "print(sqrt)\n",
        "for i in range(2,sqrt+1):\n",
        "  if(n%i == 0):\n",
        "    is_prime = False\n",
        "    break\n",
        "if(is_prime == True):\n",
        "  print(n, \" is a prime number\")\n",
        "else:\n",
        "  print(n, \" is not a prime number\")\n",
        "\n",
        "\n"
      ],
      "metadata": {
        "colab": {
          "base_uri": "https://localhost:8080/"
        },
        "id": "N9j6htl2JCBS",
        "outputId": "56f399a7-01dc-43a7-992b-2d9413e49a8d"
      },
      "execution_count": 19,
      "outputs": [
        {
          "output_type": "stream",
          "name": "stdout",
          "text": [
            "Enter the number : 33\n",
            "6\n",
            "33  is not a prime number\n"
          ]
        }
      ]
    },
    {
      "cell_type": "code",
      "source": [
        "#palindrome\n",
        "num = 543212345\n",
        "n = num\n",
        "reverse = 0\n",
        "print(\"The  number is : \",num)\n",
        "while(num > 0):\n",
        "  digit = num%10\n",
        "  num = (num - digit)/10\n",
        "  reverse = reverse*10 + int(digit)\n",
        "\n",
        "print(\"The reverse number is : \",reverse)\n",
        "\n",
        "if(n == reverse):\n",
        "  print(\"The number is palindrome\")\n",
        "else:\n",
        "  print(\"The number is not palindrome\")\n",
        "\n"
      ],
      "metadata": {
        "colab": {
          "base_uri": "https://localhost:8080/"
        },
        "id": "Pb_8R54PAHBj",
        "outputId": "1f2afc78-b561-4ef2-b364-673e088f78ac"
      },
      "execution_count": 24,
      "outputs": [
        {
          "output_type": "stream",
          "name": "stdout",
          "text": [
            "The  number is :  543212345\n",
            "The reverse number is :  543212345\n",
            "The number is palindrome\n"
          ]
        }
      ]
    },
    {
      "cell_type": "code",
      "source": [
        "factorial_num = 100\n",
        "factorial = 1\n",
        "sum\n",
        "for i in range (1,factorial_num):\n",
        "  for i in range (1,i+1):\n",
        "    factorial = i *  i+1\n",
        "  sum = sum + factorial\n",
        "print(sum)"
      ],
      "metadata": {
        "colab": {
          "base_uri": "https://localhost:8080/",
          "height": 193
        },
        "id": "5kFmU56BIjx8",
        "outputId": "ee287211-d61a-4296-9f85-df23a4a06547"
      },
      "execution_count": 26,
      "outputs": [
        {
          "output_type": "error",
          "ename": "TypeError",
          "evalue": "unsupported operand type(s) for +: 'builtin_function_or_method' and 'int'",
          "traceback": [
            "\u001b[0;31m---------------------------------------------------------------------------\u001b[0m",
            "\u001b[0;31mTypeError\u001b[0m                                 Traceback (most recent call last)",
            "\u001b[0;32m/tmp/ipython-input-2786698844.py\u001b[0m in \u001b[0;36m<cell line: 0>\u001b[0;34m()\u001b[0m\n\u001b[1;32m      5\u001b[0m   \u001b[0;32mfor\u001b[0m \u001b[0mi\u001b[0m \u001b[0;32min\u001b[0m \u001b[0mrange\u001b[0m \u001b[0;34m(\u001b[0m\u001b[0;36m1\u001b[0m\u001b[0;34m,\u001b[0m\u001b[0mi\u001b[0m\u001b[0;34m+\u001b[0m\u001b[0;36m1\u001b[0m\u001b[0;34m)\u001b[0m\u001b[0;34m:\u001b[0m\u001b[0;34m\u001b[0m\u001b[0;34m\u001b[0m\u001b[0m\n\u001b[1;32m      6\u001b[0m     \u001b[0mfactorial\u001b[0m \u001b[0;34m=\u001b[0m \u001b[0mi\u001b[0m \u001b[0;34m*\u001b[0m  \u001b[0mi\u001b[0m\u001b[0;34m+\u001b[0m\u001b[0;36m1\u001b[0m\u001b[0;34m\u001b[0m\u001b[0;34m\u001b[0m\u001b[0m\n\u001b[0;32m----> 7\u001b[0;31m   \u001b[0msum\u001b[0m \u001b[0;34m=\u001b[0m \u001b[0msum\u001b[0m \u001b[0;34m+\u001b[0m \u001b[0mfactorial\u001b[0m\u001b[0;34m\u001b[0m\u001b[0;34m\u001b[0m\u001b[0m\n\u001b[0m\u001b[1;32m      8\u001b[0m \u001b[0mprint\u001b[0m\u001b[0;34m(\u001b[0m\u001b[0msum\u001b[0m\u001b[0;34m)\u001b[0m\u001b[0;34m\u001b[0m\u001b[0;34m\u001b[0m\u001b[0m\n",
            "\u001b[0;31mTypeError\u001b[0m: unsupported operand type(s) for +: 'builtin_function_or_method' and 'int'"
          ]
        }
      ]
    },
    {
      "cell_type": "code",
      "source": [
        "a=2\n",
        "b=3\n"
      ],
      "metadata": {
        "id": "wBFVb86GN3I6"
      },
      "execution_count": null,
      "outputs": []
    }
  ]
}