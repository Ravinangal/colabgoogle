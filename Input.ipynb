{
  "nbformat": 4,
  "nbformat_minor": 0,
  "metadata": {
    "colab": {
      "provenance": [],
      "authorship_tag": "ABX9TyP8MXiZJFa9vjnEOb9eNu1T",
      "include_colab_link": true
    },
    "kernelspec": {
      "name": "python3",
      "display_name": "Python 3"
    },
    "language_info": {
      "name": "python"
    }
  },
  "cells": [
    {
      "cell_type": "markdown",
      "metadata": {
        "id": "view-in-github",
        "colab_type": "text"
      },
      "source": [
        "<a href=\"https://colab.research.google.com/github/Ravinangal/colabgoogle/blob/main/Input.ipynb\" target=\"_parent\"><img src=\"https://colab.research.google.com/assets/colab-badge.svg\" alt=\"Open In Colab\"/></a>"
      ]
    },
    {
      "cell_type": "code",
      "execution_count": 13,
      "metadata": {
        "colab": {
          "base_uri": "https://localhost:8080/"
        },
        "id": "JX_RYnFu5Rkl",
        "outputId": "f08883fd-d567-4026-84c3-2cdd8fe2159a"
      },
      "outputs": [
        {
          "output_type": "stream",
          "name": "stdout",
          "text": [
            "Enter the first no. : \n",
            "87\n",
            "Enter the second no. : \n",
            "6\n",
            "The sum of  87  and  6  is       :  93\n",
            "The subtract of  87  and  6  is  :  81\n",
            "The product of  87  and  6  is   :  522\n",
            "The division of  87  and  6  is  :  14.5\n",
            "The remainder of  87  and  6  is :  3\n"
          ]
        }
      ],
      "source": [
        "print(\"Enter the first no. : \")\n",
        "num1 = int(input())# int is used to tell the interpreter that the value is integer not string i.e. default\n",
        "print(\"Enter the second no. : \")\n",
        "num2 = int(input())#input fn is used to get input from the user and variable is generated with blank space on it's own\n",
        "print(\"The sum of \",num1,\" and \",num2,\" is       : \",num1+num2)#basic formulas\n",
        "print(\"The subtract of \",num1,\" and \",num2,\" is  : \",num1-num2)\n",
        "print(\"The product of \",num1,\" and \",num2,\" is   : \",num1*num2)\n",
        "print(\"The division of \",num1,\" and \",num2,\" is  : \",num1/num2)\n",
        "print(\"The remainder of \",num1,\" and \",num2,\" is : \",num1%num2)\n"
      ]
    },
    {
      "cell_type": "code",
      "source": [
        "# print(\"INVOICE\")\n",
        "burger_price = 150\n",
        "L_pizza_price = 600\n",
        "S_pizza_price = 350\n",
        "Noodles_price = 150\n",
        "print(\"order for burger \")\n",
        "burger = int(input())\n",
        "print(\"order for large pizza \")\n",
        "large_pizza = int(input())\n",
        "print(\"order for small pizza \")\n",
        "small_pizza = int(input())\n",
        "print(\"order for noodles \")\n",
        "noodles = int(input())\n",
        "print(\"-------------------------------------\")\n",
        "print(\"YOUR ORDER\")\n",
        "print(\"-------------------------------------\")\n",
        "print(\"Burger      : \",burger *burger_price)\n",
        "print(\"Large pizza : \",large_pizza *L_pizza_price)\n",
        "print(\"Small pizza : \",small_pizza *S_pizza_price)\n",
        "print(\"Noodles     : \",noodles *Noodles_price)\n",
        "print(\"-------------------------------------\")\n",
        "print(\"Amount is --: \",burger *burger_price+large_pizza *L_pizza_price+small_pizza *S_pizza_price+noodles *Noodles_price)\n",
        "print(\"-------------------------------------\")\n",
        "\n",
        "print(\"Discount is 30%\")\n",
        "print(\"-------------------------------------\")\n",
        "print(\"Final bill is \",(int(burger *burger_price+large_pizza *L_pizza_price+small_pizza *S_pizza_price+noodles *Noodles_price)*.7))\n",
        "print(\"-------------------------------------\")\n",
        "\n",
        "\n",
        "\n"
      ],
      "metadata": {
        "colab": {
          "base_uri": "https://localhost:8080/"
        },
        "id": "aPLPOpMdB82w",
        "outputId": "fd7da107-4c61-4ff5-f318-37463de99b2f"
      },
      "execution_count": 29,
      "outputs": [
        {
          "output_type": "stream",
          "name": "stdout",
          "text": [
            "order for burger \n",
            "1\n",
            "order for large pizza \n",
            "1\n",
            "order for small pizza \n",
            "1\n",
            "order for noodles \n",
            "1\n",
            "-------------------------------------\n",
            "YOUR ORDER\n",
            "-------------------------------------\n",
            "Burger      :  150\n",
            "Large pizza :  600\n",
            "Small pizza :  350\n",
            "Noodles     :  150\n",
            "-------------------------------------\n",
            "Amount is --:  1250\n",
            "-------------------------------------\n",
            "Discount is 30%\n",
            "-------------------------------------\n",
            "Final bill is  875.0\n",
            "-------------------------------------\n"
          ]
        }
      ]
    }
  ]
}