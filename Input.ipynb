{
  "nbformat": 4,
  "nbformat_minor": 0,
  "metadata": {
    "colab": {
      "provenance": [],
      "authorship_tag": "ABX9TyPEuwk3nP3myAO8L3uUL37U",
      "include_colab_link": true
    },
    "kernelspec": {
      "name": "python3",
      "display_name": "Python 3"
    },
    "language_info": {
      "name": "python"
    }
  },
  "cells": [
    {
      "cell_type": "markdown",
      "metadata": {
        "id": "view-in-github",
        "colab_type": "text"
      },
      "source": [
        "<a href=\"https://colab.research.google.com/github/Ravinangal/colabgoogle/blob/main/Input.ipynb\" target=\"_parent\"><img src=\"https://colab.research.google.com/assets/colab-badge.svg\" alt=\"Open In Colab\"/></a>"
      ]
    },
    {
      "cell_type": "code",
      "execution_count": null,
      "metadata": {
        "colab": {
          "base_uri": "https://localhost:8080/"
        },
        "id": "JX_RYnFu5Rkl",
        "outputId": "f08883fd-d567-4026-84c3-2cdd8fe2159a"
      },
      "outputs": [
        {
          "output_type": "stream",
          "name": "stdout",
          "text": [
            "Enter the first no. : \n",
            "87\n",
            "Enter the second no. : \n",
            "6\n",
            "The sum of  87  and  6  is       :  93\n",
            "The subtract of  87  and  6  is  :  81\n",
            "The product of  87  and  6  is   :  522\n",
            "The division of  87  and  6  is  :  14.5\n",
            "The remainder of  87  and  6  is :  3\n"
          ]
        }
      ],
      "source": [
        "print(\"Enter the first no. : \")\n",
        "num1 = int(input())# int is used to tell the interpreter that the value is integer not string i.e. default\n",
        "print(\"Enter the second no. : \")\n",
        "num2 = int(input())#input fn is used to get input from the user and variable is generated with blank space on it's own\n",
        "print(\"The sum of \",num1,\" and \",num2,\" is       : \",num1+num2)#basic formulas\n",
        "print(\"The subtract of \",num1,\" and \",num2,\" is  : \",num1-num2)\n",
        "print(\"The product of \",num1,\" and \",num2,\" is   : \",num1*num2)\n",
        "print(\"The division of \",num1,\" and \",num2,\" is  : \",num1/num2)\n",
        "print(\"The remainder of \",num1,\" and \",num2,\" is : \",num1%num2)\n"
      ]
    },
    {
      "cell_type": "code",
      "source": [
        "# print(\"INVOICE\")\n",
        "burger_price = 150\n",
        "L_pizza_price = 600\n",
        "S_pizza_price = 350\n",
        "Noodles_price = 150\n",
        "print(\"No. of people : \")\n",
        "people = int(input())\n",
        "print(\"order for burger \")\n",
        "burger = int(input())\n",
        "print(\"order for large pizza \")\n",
        "large_pizza = int(input())\n",
        "print(\"order for small pizza \")\n",
        "small_pizza = int(input())\n",
        "print(\"order for noodles \")\n",
        "noodles = int(input())\n",
        "print(\"-------------------------------------\")\n",
        "print(\"YOUR ORDER\")\n",
        "print(\"-------------------------------------\")\n",
        "print(\"Burger      : \",burger *burger_price)\n",
        "print(\"Large pizza : \",large_pizza *L_pizza_price)\n",
        "print(\"Small pizza : \",small_pizza *S_pizza_price)\n",
        "print(\"Noodles     : \",noodles *Noodles_price)\n",
        "print(\"-------------------------------------\")\n",
        "print(\"Amount is --: \",(burger *burger_price+large_pizza *L_pizza_price+small_pizza *S_pizza_price+noodles *Noodles_price)*people)\n",
        "print(\"-------------------------------------\")\n",
        "\n",
        "print(\"Discount is 30%\")\n",
        "print(\"-------------------------------------\")\n",
        "print(\"Final bill is \",(int(burger *burger_price+large_pizza *L_pizza_price+small_pizza *S_pizza_price+noodles *Noodles_price)*.7)*people)\n",
        "print(\"-------------------------------------\")\n",
        "\n",
        "\n",
        "\n"
      ],
      "metadata": {
        "colab": {
          "base_uri": "https://localhost:8080/"
        },
        "id": "aPLPOpMdB82w",
        "outputId": "5aac5666-ac62-4ed1-d818-a0ba287a469d"
      },
      "execution_count": null,
      "outputs": [
        {
          "output_type": "stream",
          "name": "stdout",
          "text": [
            "No. of people : \n",
            "4\n",
            "order for burger \n",
            "1\n",
            "order for large pizza \n",
            "1\n",
            "order for small pizza \n",
            "1\n",
            "order for noodles \n",
            "1\n",
            "-------------------------------------\n",
            "YOUR ORDER\n",
            "-------------------------------------\n",
            "Burger      :  150\n",
            "Large pizza :  600\n",
            "Small pizza :  350\n",
            "Noodles     :  150\n",
            "-------------------------------------\n",
            "Amount is --:  5000\n",
            "-------------------------------------\n",
            "Discount is 30%\n",
            "-------------------------------------\n",
            "Final bill is  3500.0\n",
            "-------------------------------------\n"
          ]
        }
      ]
    },
    {
      "cell_type": "code",
      "source": [
        "#price for items\n",
        "shirt_p = 1250\n",
        "pant_p = 1500\n",
        "\n",
        "cargo_p = 1400\n",
        "shoes_p = 5000\n",
        "watch_p = 12500\n",
        "belt_p = 1500\n",
        "\n",
        "print(\"Items available are :\\n Shirt for : \",shirt_p, \"\\n Pant for  : \",pant_p,\" \\n Cargo for : \",cargo_p,\" \\n Shoes for : \" ,shoes_p ,\"\\n Watch for : \" ,watch_p,\" \\n Belt for  : \",belt_p)\n",
        "print(\"Select Items for your Cart :) \")\n",
        "print(\"How many shirts do you want : \")\n",
        "shirt = int(input())\n",
        "print(\"How many 'Pants' do you want : \")\n",
        "pant = int(input())\n",
        "print(\"How many 'Cargos' do you want : \")\n",
        "cargo  = int(input())\n",
        "print(\"How many 'Shoes' do you want : \")\n",
        "shoes = int(input())\n",
        "print(\"How many 'Watches' do you want : \")\n",
        "watch = int(input())\n",
        "print(\"How many 'Belts' do you want : \")\n",
        "belt = int(input())\n",
        "shirtdis = shirt*shirt_p*.3 # 30 % discount\n",
        "pantdis = pant*pant_p*.1 # 10 % discount\n",
        "cargodis = cargo*cargo_p*.4\n",
        "shoesdis = shoes*shoes_p*.1\n",
        "watchdis = watch*watch_p*.2\n",
        "beltdis = belt*belt_p*.2\n",
        "print(\"Items in your cart with pricing are \")\n",
        "print(\"Shirts : \",shirt, \" Rs. \",shirt*shirt_p, \"| Discounted Price is \",(shirt*shirt_p) - shirtdis)\n",
        "print(\"Pant   : \",pant,   \" Rs. \",pant*pant_p, \"| Discounted Price is \",(pant*pant_p)-pantdis)\n",
        "print(\"Cargo  : \",cargo,  \" Rs. \",cargo*cargo_p, \"| Discounted Price is \",(cargo*cargo_p)-cargodis)\n",
        "print(\"Shoes  : \",shoes, \" Rs. \",shoes*shoes_p, \"| Discounted Price is \",(shoes*shoes_p)-shoesdis)\n",
        "print(\"Watch  : \",watch, \" Rs. \",watch*watch_p, \"| Discounted Price is \",(watch*watch_p)-watchdis)\n",
        "print(\"Belt   : \",belt, \" Rs. \",belt*belt_p, \"| Discounted Price is \",(belt*belt_p)-beltdis)\n",
        "Discounted_amt = (shirt*shirt_p - shirtdis)+(pant*pant_p - pantdis)+(cargo*cargo_p - cargodis)+(shoes*shoes_p - shoesdis)+(watch*watch_p - watchdis)+(belt*belt_p - beltdis)\n",
        "print(\"Your Discounted bill is : \",Discounted_amt)\n",
        "coupon = \"COUPON_NEW\"\n",
        "final_amt = Discounted_amt - Discounted_amt*.1\n",
        "print(\"After applying the COUPON_NEW  of 10% \\nThe final amount is : \",final_amt)\n",
        "\n",
        "print(\"Enter the address for delivery \")\n",
        "print(\"House NO. \")\n",
        "house_no = input()\n",
        "print(\"City\")\n",
        "city = input()\n",
        "print(\"PIN_CODE\")\n",
        "pin_code = int(input())\n",
        "\n",
        "print(\"\\nThe order of \", final_amt, \" will be delivered at : \")\n",
        "print(house_no,\" , \",city, \" , \", pin_code)\n",
        "\n",
        "print(\"\\n Thank you  :) \")"
      ],
      "metadata": {
        "id": "-N-CB_wdJDCm",
        "colab": {
          "base_uri": "https://localhost:8080/"
        },
        "outputId": "642ad713-1763-418d-e699-8cb40c821d3a"
      },
      "execution_count": 18,
      "outputs": [
        {
          "output_type": "stream",
          "name": "stdout",
          "text": [
            "Items available are :\n",
            " Shirt for :  1250 \n",
            " Pant for  :  1500  \n",
            " Cargo for :  1400  \n",
            " Shoes for :  5000 \n",
            " Watch for :  12500  \n",
            " Belt for  :  1500\n",
            "Select Items for your Cart :) \n",
            "How many shirts do you want : \n",
            "1\n",
            "How many 'Pants' do you want : \n",
            "1\n",
            "How many 'Cargos' do you want : \n",
            "1\n",
            "How many 'Shoes' do you want : \n",
            "1\n",
            "How many 'Watches' do you want : \n",
            "1\n",
            "How many 'Belts' do you want : \n",
            "1\n",
            "Items in your cart with pricing are \n",
            "Shirts :  1  Rs.  1250 | Discounted Price is  875.0\n",
            "Pant   :  1  Rs.  1500 | Discounted Price is  1350.0\n",
            "Cargo  :  1  Rs.  1400 | Discounted Price is  840.0\n",
            "Shoes  :  1  Rs.  5000 | Discounted Price is  4500.0\n",
            "Watch  :  1  Rs.  12500 | Discounted Price is  10000.0\n",
            "Belt   :  1  Rs.  1500 | Discounted Price is  1200.0\n",
            "Your Discounted bill is :  18765.0\n",
            "After applying the COUPON_NEW  of 10% \n",
            " The final amount is :  16888.5\n",
            "Enter the address for delivery \n",
            "House NO. \n",
            "323\n",
            "City\n",
            "barnala\n",
            "PIN_CODE\n",
            "148025\n",
            "\n",
            " The order of  16888.5  will be delivered at : \n",
            "323  ,  barnala  ,  148025\n",
            "\n",
            " Thank you  :) \n"
          ]
        }
      ]
    }
  ]
}